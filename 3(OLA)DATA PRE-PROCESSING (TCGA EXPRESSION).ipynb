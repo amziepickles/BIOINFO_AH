{
 "cells": [
  {
   "cell_type": "code",
   "execution_count": 71,
   "id": "ac66b582",
   "metadata": {},
   "outputs": [],
   "source": [
    "import pandas as pd\n",
    "import numpy as np\n",
    "import os\n",
    "import warnings\n",
    "from pandas.core.common import SettingWithCopyWarning"
   ]
  },
  {
   "cell_type": "code",
   "execution_count": 73,
   "id": "e68ba281",
   "metadata": {},
   "outputs": [],
   "source": [
    "def load(file_path):\n",
    "    data = pd.read_csv(file_path, index_col=0)\n",
    "    return data\n",
    "\n",
    "warnings.filterwarnings(\"ignore\", category=RuntimeWarning, message=\".*slice*\")\n",
    "warnings.filterwarnings(\"ignore\", category=SettingWithCopyWarning)"
   ]
  },
  {
   "cell_type": "markdown",
   "id": "06508db5",
   "metadata": {},
   "source": [
    "## Cleaning TCGA expression data\n",
    "\n",
    "link: https://xenabrowser.net/datapages/?dataset=TCGA.BRCA.sampleMap%2FHiSeqV2_percentile&host=https%3A%2F%2Ftcga.xenahubs.net&removeHub=https%3A%2F%2Fxena.treehouse.gi.ucsc.edu%3A443\n",
    "\n",
    "1. Upload expression data and clinical data\n",
    "2. TCGA samples with no radiation\n",
    "3. Subset expression data to samples which have had no radiation\n",
    "4. Remove low/zero variance genes\n",
    "5. Remove genes with many null counts\n",
    "6. Remove highly correlated genes\n",
    "7. Save data"
   ]
  },
  {
   "cell_type": "markdown",
   "id": "f9e243f1",
   "metadata": {},
   "source": [
    "#### 1. Upload expression data and clinical data"
   ]
  },
  {
   "cell_type": "code",
   "execution_count": 74,
   "id": "7a2f7004",
   "metadata": {},
   "outputs": [],
   "source": [
    "perc_df = load('EX_TCGA.BRCA.sampleMap_HiSeqV2_percentile.csv')\n",
    "perc_df_t = perc_df.T"
   ]
  },
  {
   "cell_type": "code",
   "execution_count": 75,
   "id": "8c9cd948",
   "metadata": {},
   "outputs": [],
   "source": [
    "clinical_df = load('TCGA.BRCA_CLINICAL.csv')"
   ]
  },
  {
   "cell_type": "markdown",
   "id": "6f2988fb",
   "metadata": {},
   "source": [
    "#### 2. TCGA samples with no radiation"
   ]
  },
  {
   "cell_type": "code",
   "execution_count": 76,
   "id": "16f233eb",
   "metadata": {},
   "outputs": [],
   "source": [
    "clinical_df.columns = clinical_df.iloc[0]\n",
    "clinical_df = clinical_df.drop('sampleID')\n",
    "\n",
    "subset_df = clinical_df[['radiation_therapy']]\n",
    "\n",
    "mask = ~subset_df['radiation_therapy'].isna()\n",
    "\n",
    "df_cleaned = subset_df[mask]\n",
    "\n",
    "TCGA_clinical_notr = df_cleaned[df_cleaned['radiation_therapy'].str.contains('NO')]"
   ]
  },
  {
   "cell_type": "markdown",
   "id": "c06f2934",
   "metadata": {},
   "source": [
    "#### 3. Subset expression data to samples which have had no radiation"
   ]
  },
  {
   "cell_type": "code",
   "execution_count": 77,
   "id": "9a10261d",
   "metadata": {},
   "outputs": [],
   "source": [
    "TCGA_exp_notr = perc_df_t.loc[perc_df_t.index.isin(TCGA_clinical_notr.index)]\n",
    "TCGA_exp_notr = TCGA_exp_notr.sort_index(axis=1)"
   ]
  },
  {
   "cell_type": "code",
   "execution_count": 78,
   "id": "394d9fc2",
   "metadata": {},
   "outputs": [
    {
     "name": "stdout",
     "output_type": "stream",
     "text": [
      "Number of genes with all NA values: 29\n"
     ]
    }
   ],
   "source": [
    "#check no of genes with all NA\n",
    "num_genes_with_all_na = TCGA_exp_notr.isna().all(axis=0).sum()\n",
    "print(f\"Number of genes with all NA values: {num_genes_with_all_na}\")"
   ]
  },
  {
   "cell_type": "code",
   "execution_count": 79,
   "id": "66db9249",
   "metadata": {},
   "outputs": [],
   "source": [
    "#drop these all NA genes\n",
    "TCGA_exp_notr.drop(columns=TCGA_exp_notr.columns[TCGA_exp_notr.isna().all(axis=0)], inplace=True)"
   ]
  },
  {
   "cell_type": "code",
   "execution_count": 80,
   "id": "aa7b6de5",
   "metadata": {},
   "outputs": [
    {
     "name": "stdout",
     "output_type": "stream",
     "text": [
      "Columns with missing values:\n",
      "Series([], dtype: bool)\n"
     ]
    }
   ],
   "source": [
    "# Check for remaining missing values using .isnull() (same as .isna())\n",
    "missing_values = TCGA_exp_notr.isnull().any()\n",
    "\n",
    "# Print columns with missing values\n",
    "print(\"Columns with missing values:\")\n",
    "print(missing_values[missing_values == True])"
   ]
  },
  {
   "cell_type": "markdown",
   "id": "dde62f3c",
   "metadata": {},
   "source": [
    "#### 4. Remove samples with many null counts"
   ]
  },
  {
   "cell_type": "code",
   "execution_count": 81,
   "id": "e4fb0500",
   "metadata": {},
   "outputs": [
    {
     "name": "stdout",
     "output_type": "stream",
     "text": [
      "Removed 0 samples with high null counts.\n"
     ]
    }
   ],
   "source": [
    "# Set the threshold for the maximum allowable percentage of null counts\n",
    "max_null_percentage_threshold = 50  # Adjust as needed\n",
    "\n",
    "# Calculate the percentage of null values (missing values) in each sample\n",
    "sample_null_percentages = (TCGA_exp_notr.isna().sum(axis=1) / len(TCGA_exp_notr.columns)) * 100\n",
    "\n",
    "# Filter out samples with high null percentages\n",
    "tcga_data_filtered = TCGA_exp_notr[sample_null_percentages <= max_null_percentage_threshold]\n",
    "\n",
    "# Display the number of removed samples\n",
    "removed_samples_count = len(TCGA_exp_notr) - len(TCGA_exp_notr)\n",
    "print(f\"Removed {removed_samples_count} samples with high null counts.\")"
   ]
  },
  {
   "cell_type": "markdown",
   "id": "a776e7e5",
   "metadata": {},
   "source": [
    "#### 5. Remove genes with many null counts"
   ]
  },
  {
   "cell_type": "code",
   "execution_count": 82,
   "id": "3eb3abfb",
   "metadata": {},
   "outputs": [
    {
     "name": "stdout",
     "output_type": "stream",
     "text": [
      "Removed 2866 genes with many null counts.\n"
     ]
    }
   ],
   "source": [
    "# Calculate the percentage of 0.0 values in each gene (column)\n",
    "percentage_zero = (tcga_data_filtered == 0.0).mean(axis=0)\n",
    "\n",
    "# Filter out genes (columns) with more than 50% 0.0 values\n",
    "threshold = 0.5\n",
    "filtered_tcga = tcga_data_filtered.loc[:, percentage_zero <= threshold]\n",
    "\n",
    "# Display the number of removed genes\n",
    "removed_genes_cnt = len(tcga_data_filtered.columns) - len(filtered_tcga.columns)\n",
    "print(f\"Removed {removed_genes_cnt} genes with many null counts.\")"
   ]
  },
  {
   "cell_type": "markdown",
   "id": "e8ee37a1",
   "metadata": {},
   "source": [
    "#### 6. Percentile Ranking\n",
    "Percentile normalisation should not contain 0.0 and 100.0 but for some reason, TCGA data didn't"
   ]
  },
  {
   "cell_type": "code",
   "execution_count": 83,
   "id": "f3d4f7b8",
   "metadata": {},
   "outputs": [],
   "source": [
    "# Apply percentile ranking\n",
    "percentiles = filtered_tcga.rank(axis=1, pct=True) * 100\n",
    "\n",
    "# Update the normalized rows back into the original dataframe\n",
    "filtered_tcga.update(percentiles)"
   ]
  },
  {
   "cell_type": "markdown",
   "id": "e3e2613a",
   "metadata": {},
   "source": [
    "#### 7. Remove low/zero variance genes"
   ]
  },
  {
   "cell_type": "code",
   "execution_count": 84,
   "id": "650a10bc",
   "metadata": {},
   "outputs": [
    {
     "name": "stdout",
     "output_type": "stream",
     "text": [
      "Removed 9 genes with low variance.\n"
     ]
    }
   ],
   "source": [
    "# Set the threshold for the minimum acceptable variance\n",
    "min_variance_threshold = 0.03\n",
    "\n",
    "# Calculate the variance for each gene\n",
    "gene_variances = filtered_tcga.var(axis=0)\n",
    "\n",
    "# Filter out genes with low variance\n",
    "tcga_d = filtered_tcga.loc[:, gene_variances >= min_variance_threshold]\n",
    "\n",
    "\n",
    "tcga_cp_ola = tcga_d.copy()\n",
    "tcga_cp_tala = tcga_d.copy()\n",
    "\n",
    "# Display the number of removed genes\n",
    "removed_genes_count = len(filtered_tcga.columns) - len(tcga_d.columns)\n",
    "print(f\"Removed {removed_genes_count} genes with low variance.\")"
   ]
  },
  {
   "cell_type": "markdown",
   "id": "c2b21c08",
   "metadata": {},
   "source": [
    "#### 8. Match features to cleaned cell line expression"
   ]
  },
  {
   "cell_type": "code",
   "execution_count": 85,
   "id": "a4765e41",
   "metadata": {},
   "outputs": [],
   "source": [
    "os.chdir('/Users/amyhayward/Documents/BIOINFORMATICS MSC/Project/FINAL_FILES')\n",
    "cl_df = load('X_TRAIN_AH_OLA.csv')"
   ]
  },
  {
   "cell_type": "code",
   "execution_count": 86,
   "id": "86b19a83",
   "metadata": {},
   "outputs": [],
   "source": [
    "matched_cols = cl_df.columns.intersection(tcga_d.columns)\n",
    "match_tcga = tcga_d[matched_cols]\n",
    "match_cl = cl_df[matched_cols]"
   ]
  },
  {
   "cell_type": "code",
   "execution_count": 87,
   "id": "fc721224",
   "metadata": {},
   "outputs": [],
   "source": [
    "X_test_exp = load(\"X_TEST_AH_OLA.csv\")"
   ]
  },
  {
   "cell_type": "code",
   "execution_count": 88,
   "id": "4f59c8f1",
   "metadata": {},
   "outputs": [],
   "source": [
    "matched_test = X_test_exp.columns.intersection(match_cl.columns)\n",
    "match_test = X_test_exp[matched_test]"
   ]
  },
  {
   "cell_type": "markdown",
   "id": "e7d4d1d7",
   "metadata": {},
   "source": [
    "#### 9. Save data"
   ]
  },
  {
   "cell_type": "code",
   "execution_count": 89,
   "id": "d79e5451",
   "metadata": {},
   "outputs": [],
   "source": [
    "cl_file = \"X_TRAIN_MATCH_OLA.csv\"\n",
    "match_cl.to_csv(cl_file, index=True)\n",
    "\n",
    "tcga_file = \"TCGA_MATCH_OLA.csv\"\n",
    "match_tcga.to_csv(tcga_file, index=True)\n",
    "\n",
    "file_test = \"X_TEST_MATCH_OLA.csv\"\n",
    "match_test.to_csv(file_test, index=True)"
   ]
  },
  {
   "cell_type": "markdown",
   "id": "19d6ff62",
   "metadata": {},
   "source": [
    "#### 10. Venn Diagram"
   ]
  },
  {
   "cell_type": "code",
   "execution_count": 90,
   "id": "7541f838",
   "metadata": {},
   "outputs": [
    {
     "data": {
      "image/png": "[encoded data removed]",
      "text/plain": [
       "<Figure size 504x504 with 1 Axes>"
      ]
     },
     "metadata": {},
     "output_type": "display_data"
    }
   ],
   "source": [
    "from matplotlib_venn import venn2\n",
    "import matplotlib.pyplot as plt\n",
    "\n",
    "plt.figure(figsize=(7, 7))\n",
    "\n",
    "set1 = set(cl_df.columns)\n",
    "set2 = set(tcga_d.columns) \n",
    "\n",
    "\n",
    "venn = venn2([set1, set2], ('', ''))\n",
    "\n",
    "venn.get_label_by_id('10').set_x(-0.5)\n",
    "venn.get_label_by_id('01').set_x(0.6)\n",
    "venn.get_label_by_id('11').set_y(0.2)\n",
    "# Add labels and titles\n",
    "venn.get_label_by_id('10').set_text('GDSC')\n",
    "venn.get_label_by_id('10').set_weight('bold')\n",
    "venn.get_label_by_id('10').set_fontsize(20)\n",
    "venn.get_label_by_id('01').set_text('TCGA')\n",
    "venn.get_label_by_id('01').set_weight('bold')\n",
    "venn.get_label_by_id('01').set_fontsize(20)\n",
    "venn.get_label_by_id('11').set_text('Common\\nfeatures\\n15144')\n",
    "venn.get_label_by_id('11').set_weight('bold')\n",
    "venn.get_label_by_id('11').set_fontsize(20)\n",
    "\n",
    "venn.get_patch_by_id('10').set_color('orange')   # Features only in GDSC\n",
    "venn.get_patch_by_id('01').set_color('blue')     # Features only in TCGA\n",
    "venn.get_patch_by_id('11').set_color('green') \n",
    "\n",
    "plt.title(\"Venn Diagram of Matching Features (Olaparib)\", fontweight ='bold', size=20)\n",
    "plt.show()"
   ]
  }
 ],
 "metadata": {
  "kernelspec": {
   "display_name": "Python 3 (ipykernel)",
   "language": "python",
   "name": "python3"
  },
  "language_info": {
   "codemirror_mode": {
    "name": "ipython",
    "version": 3
   },
   "file_extension": ".py",
   "mimetype": "text/x-python",
   "name": "python",
   "nbconvert_exporter": "python",
   "pygments_lexer": "ipython3",
   "version": "3.9.12"
  }
 },
 "nbformat": 4,
 "nbformat_minor": 5
}
