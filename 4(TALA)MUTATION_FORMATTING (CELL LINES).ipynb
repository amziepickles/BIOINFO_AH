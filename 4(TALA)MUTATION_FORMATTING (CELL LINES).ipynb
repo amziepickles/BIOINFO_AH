{
 "cells": [
  {
   "cell_type": "code",
   "execution_count": 23,
   "id": "5ff41a9b",
   "metadata": {},
   "outputs": [],
   "source": [
    "import pandas as pd\n",
    "import numpy as np\n",
    "import os\n",
    "import warnings\n",
    "from pandas.core.common import SettingWithCopyWarning"
   ]
  },
  {
   "cell_type": "code",
   "execution_count": 24,
   "id": "aa8ab4b9",
   "metadata": {},
   "outputs": [],
   "source": [
    "def load(file_path):\n",
    "    data = pd.read_csv(file_path, index_col=0)\n",
    "    return data\n",
    "\n",
    "warnings.filterwarnings(\"ignore\", category=RuntimeWarning, message=\".*slice*\")\n",
    "warnings.filterwarnings(\"ignore\", category=SettingWithCopyWarning)"
   ]
  },
  {
   "cell_type": "markdown",
   "id": "3467e73c",
   "metadata": {},
   "source": [
    "## Cell Line Mutation Data"
   ]
  },
  {
   "cell_type": "markdown",
   "id": "b494beab",
   "metadata": {},
   "source": [
    "#### 1. Load data"
   ]
  },
  {
   "cell_type": "code",
   "execution_count": 25,
   "id": "6bcb0502",
   "metadata": {},
   "outputs": [],
   "source": [
    "os.chdir('/Users/amyhayward/Documents/BIOINFORMATICS MSC/Project/Mutation_DATA')\n",
    "mutation_data_1 = 'model_list_20230608.csv'\n",
    "mutation_data_2 = 'mutations_all_20230202.csv'\n",
    "\n",
    "mut1_df = pd.read_csv(mutation_data_1, index_col=0,low_memory=False)\n",
    "mut2_df = pd.read_csv(mutation_data_2, index_col=0,low_memory=False)"
   ]
  },
  {
   "cell_type": "markdown",
   "id": "4f5ca3b2",
   "metadata": {},
   "source": [
    "#### 2. Drop mutations"
   ]
  },
  {
   "cell_type": "code",
   "execution_count": 26,
   "id": "fbe3fc23",
   "metadata": {},
   "outputs": [],
   "source": [
    "#MUTATIONS OF INTEREST - we are only interested in these mutations\n",
    "mutation_filtered = mut2_df[mut2_df['effect'].str.contains('nonsense|missense|ess_splice|frameshift')]\n",
    "drop_rows = 'prime'\n",
    "\n",
    "# Keep only rows where the 'Gene' column contains genes from the gene_list\n",
    "mutation_filtered = mutation_filtered[~mutation_filtered['effect'].str.contains(drop_rows)]"
   ]
  },
  {
   "cell_type": "markdown",
   "id": "a9a54b90",
   "metadata": {},
   "source": [
    "#### 3. Keep only breast data"
   ]
  },
  {
   "cell_type": "code",
   "execution_count": 27,
   "id": "3d8d7cd9",
   "metadata": {},
   "outputs": [],
   "source": [
    "# Define the string you want to check for\n",
    "defined_string = 'Breast'\n",
    "\n",
    "# Subset the DataFrame based on the condition\n",
    "mut1_df_sub = mut1_df[mut1_df['tissue'].str.contains(defined_string, case=False, na=False)]\n",
    "columns_to_keep = ['model_name', 'tissue_status', 'sample_site', 'sample_treatment', 'sample_treatment_details']\n",
    "mut1_df_sub = mut1_df_sub[columns_to_keep]"
   ]
  },
  {
   "cell_type": "code",
   "execution_count": 28,
   "id": "ffa7f984",
   "metadata": {},
   "outputs": [],
   "source": [
    "#matching\n",
    "defined_strings_set = set(mut1_df_sub.index)\n",
    "\n",
    "# Define a function to check if any of the defined strings are in the given text\n",
    "def contains_any_defined_string(text):\n",
    "    return any(defined_string in text for defined_string in defined_strings_set)\n",
    "\n",
    "# Keep only rows from df1 that match any of the defined strings in 'column_name'\n",
    "mut2_matched = mutation_filtered[mutation_filtered['model_id'].apply(contains_any_defined_string)]"
   ]
  },
  {
   "cell_type": "markdown",
   "id": "069035d3",
   "metadata": {},
   "source": [
    "#### 4. Model_name formatting"
   ]
  },
  {
   "cell_type": "code",
   "execution_count": 29,
   "id": "faeacef0",
   "metadata": {},
   "outputs": [],
   "source": [
    "mut2_matched['model_name'] = mut2_matched['model_name'].str.replace(\"-\", \"\")\n",
    "mut2_matched['model_name'] = mut2_matched['model_name'].str.replace(\"s\", \"S\")"
   ]
  },
  {
   "cell_type": "markdown",
   "id": "7bee9c31",
   "metadata": {},
   "source": [
    "#### 5. Reindex - set model_name as index"
   ]
  },
  {
   "cell_type": "code",
   "execution_count": 30,
   "id": "5e08d98e",
   "metadata": {},
   "outputs": [],
   "source": [
    "mut2_matched.reset_index(inplace=True, drop=False)\n",
    "mut2_matched.set_index('model_name', inplace=True)"
   ]
  },
  {
   "cell_type": "markdown",
   "id": "1b082754",
   "metadata": {},
   "source": [
    "#### 6. Keep cell lines which are present in IC50 subset"
   ]
  },
  {
   "cell_type": "code",
   "execution_count": 31,
   "id": "5c66f75b",
   "metadata": {},
   "outputs": [],
   "source": [
    "os.chdir('/Users/amyhayward/Documents/BIOINFORMATICS MSC/Project/FINAL_FILES')\n",
    "cl_df_tala = load(\"TALA_TERTILE_LN.csv\")"
   ]
  },
  {
   "cell_type": "code",
   "execution_count": 32,
   "id": "3ad93d81",
   "metadata": {},
   "outputs": [],
   "source": [
    "commonrows = mut2_matched.index.intersection(cl_df_tala.index)\n",
    "mut0_filtered = mut2_matched.loc[commonrows]\n",
    "#mut0_filtered.reset_index(inplace=True, drop=False)\n",
    "mut0_filtered.index.name = 'model_name'"
   ]
  },
  {
   "cell_type": "markdown",
   "id": "ee62188b",
   "metadata": {},
   "source": [
    "#### 7. Output - for mutation landscape plots"
   ]
  },
  {
   "cell_type": "code",
   "execution_count": 33,
   "id": "f1b829f4",
   "metadata": {},
   "outputs": [],
   "source": [
    "gof = ['ATM', 'BRCA1', 'BRCA2','RAD51','RAD51B', 'RAD51D','XRCC2','XRCC3',\n",
    "       'RAD52','RAD54L','RAD50','MRE11','RBBP8','MUS81','EME1','EME2','SLX1A',\n",
    "       'SLX1B','TP53BP1','MAD2L2','MAD2L2','RIF1','SHLD1','SHLD2','SHLD3','SETD1A','BOD1L1']\n",
    "\n",
    "gof_mut = mut0_filtered[mut0_filtered['gene_symbol'].isin(gof)]\n",
    "\n",
    "file_path0 = 'TALA_mutationNEW.txt'\n",
    "gof_mut.to_csv(file_path0, sep='\\t', index=True)"
   ]
  },
  {
   "cell_type": "markdown",
   "id": "44fe7150",
   "metadata": {},
   "source": [
    "#### 8. Create gene mutation matrix"
   ]
  },
  {
   "cell_type": "code",
   "execution_count": 34,
   "id": "a77d8726",
   "metadata": {},
   "outputs": [],
   "source": [
    "#MUTATION DATA TRANSPOSED\n",
    "mutation_sub = mut0_filtered.loc[:, ['gene_symbol', 'effect']]\n",
    "\n",
    "mutation_sub['effect'] = mutation_sub['effect'].str.replace(\"missense\", \"1\")\n",
    "mutation_sub['effect'] = mutation_sub['effect'].str.replace(\"nonsense\", \"1\")\n",
    "mutation_sub['effect'] = mutation_sub['effect'].str.replace(\"frameshift\", \"1\")\n",
    "mutation_sub['effect'] = mutation_sub['effect'].str.replace(\"ess_splice\", \"1\")\n",
    "\n",
    "mutation_sub = mutation_sub.pivot_table(index='model_name', columns='gene_symbol', values='effect', aggfunc='first')\n",
    "mutation_sub = mutation_sub.fillna(0)\n",
    "mutation_sub = mutation_sub.applymap(int)\n",
    "mutation_sub = mutation_sub.rename_axis('Cell line')"
   ]
  },
  {
   "cell_type": "markdown",
   "id": "adf85bb6",
   "metadata": {},
   "source": [
    "#### 9. Check TCGA mutatix matrix is in the same format"
   ]
  },
  {
   "cell_type": "code",
   "execution_count": 35,
   "id": "45d84b20",
   "metadata": {},
   "outputs": [],
   "source": [
    "os.chdir('/Users/amyhayward/Documents/BIOINFORMATICS MSC/Project/Mutation_DATA')\n",
    "tcga_mut = load(\"TCGA_mutationdataraw.csv\")\n",
    "tcga_mut = tcga_mut.T"
   ]
  },
  {
   "cell_type": "markdown",
   "id": "b0f830b4",
   "metadata": {},
   "source": [
    "#### 10. Fitler to contain only samples without radiation"
   ]
  },
  {
   "cell_type": "code",
   "execution_count": 36,
   "id": "ca285b35",
   "metadata": {},
   "outputs": [],
   "source": [
    "os.chdir('/Users/amyhayward/Documents/BIOINFORMATICS MSC/Project/FINAL_FILES')\n",
    "tcga_no_rad_df = load(\"TCGA_MATCH_TALA.csv\")"
   ]
  },
  {
   "cell_type": "code",
   "execution_count": 37,
   "id": "f6faec36",
   "metadata": {},
   "outputs": [],
   "source": [
    "matched_index = tcga_mut.index.intersection(tcga_no_rad_df.index)\n",
    "ge_match = tcga_no_rad_df.reindex(index=matched_index)\n",
    "mut_match = tcga_mut.reindex(index=matched_index)"
   ]
  },
  {
   "cell_type": "markdown",
   "id": "ff72005d",
   "metadata": {},
   "source": [
    "#### 11. Save new matched TCGA gene expression"
   ]
  },
  {
   "cell_type": "code",
   "execution_count": 38,
   "id": "c2fb7484",
   "metadata": {},
   "outputs": [],
   "source": [
    "file = \"X_UNLABELLED_EXP_TALA.csv\"\n",
    "ge_match.to_csv(file, index=True)"
   ]
  },
  {
   "cell_type": "markdown",
   "id": "016b6c0b",
   "metadata": {},
   "source": [
    "#### 12. Drop genes which have no mutations"
   ]
  },
  {
   "cell_type": "code",
   "execution_count": 39,
   "id": "47792e0d",
   "metadata": {},
   "outputs": [],
   "source": [
    "tcga_mutations = mut_match.loc[:, (mut_match != 0).any()]"
   ]
  },
  {
   "cell_type": "markdown",
   "id": "c300d51a",
   "metadata": {},
   "source": [
    "#### 13. Match Mutations in cell line and TCGA"
   ]
  },
  {
   "cell_type": "code",
   "execution_count": 40,
   "id": "9a824504",
   "metadata": {},
   "outputs": [],
   "source": [
    "matched_cols = mutation_sub.columns.intersection(tcga_mutations.columns)\n",
    "mut_match_cols = tcga_mutations[matched_cols]\n",
    "cl_match_cols = mutation_sub[matched_cols]"
   ]
  },
  {
   "cell_type": "markdown",
   "id": "e9fc2cf9",
   "metadata": {},
   "source": [
    "#### 14. Save TCGA matrix"
   ]
  },
  {
   "cell_type": "code",
   "execution_count": 41,
   "id": "266f60a3",
   "metadata": {},
   "outputs": [],
   "source": [
    "fle = \"X_UNLABELLED_MUT_TALA.csv\"\n",
    "mut_match_cols.to_csv(fle, index=True)"
   ]
  },
  {
   "cell_type": "markdown",
   "id": "246f2140",
   "metadata": {},
   "source": [
    "#### 15. Match matrixes to corresponding expression data (cell lines)"
   ]
  },
  {
   "cell_type": "code",
   "execution_count": 42,
   "id": "077bf077",
   "metadata": {},
   "outputs": [],
   "source": [
    "test_df = load(\"X_TEST_MATCH_TALA.csv\")\n",
    "\n",
    "train_df = load(\"X_TRAIN_MATCH_TALA.csv\")"
   ]
  },
  {
   "cell_type": "code",
   "execution_count": 43,
   "id": "2cb6c1f2",
   "metadata": {},
   "outputs": [],
   "source": [
    "test_index = test_df.index.intersection(cl_match_cols.index)\n",
    "mut_test = cl_match_cols.reindex(index=test_index)\n",
    "\n",
    "train_index = train_df.index.intersection(cl_match_cols.index)\n",
    "mut_train = cl_match_cols.reindex(index=train_index)"
   ]
  },
  {
   "cell_type": "code",
   "execution_count": 44,
   "id": "5c113c02",
   "metadata": {},
   "outputs": [],
   "source": [
    "testmatrix = \"TEST_MATRIX_TALA.csv\"\n",
    "mut_test.to_csv(testmatrix, index=True)\n",
    "\n",
    "trainmatrix = \"TRAIN_MATRIX_TALA.csv\"\n",
    "mut_train.to_csv(trainmatrix, index=True)"
   ]
  }
 ],
 "metadata": {
  "kernelspec": {
   "display_name": "Python 3 (ipykernel)",
   "language": "python",
   "name": "python3"
  },
  "language_info": {
   "codemirror_mode": {
    "name": "ipython",
    "version": 3
   },
   "file_extension": ".py",
   "mimetype": "text/x-python",
   "name": "python",
   "nbconvert_exporter": "python",
   "pygments_lexer": "ipython3",
   "version": "3.9.12"
  }
 },
 "nbformat": 4,
 "nbformat_minor": 5
}
