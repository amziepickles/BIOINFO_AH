{
 "cells": [
  {
   "cell_type": "markdown",
   "id": "8c131e3d",
   "metadata": {},
   "source": [
    "## Formatting and Labelling GDSC2 for Olaparib and Talazoparib"
   ]
  },
  {
   "cell_type": "code",
   "execution_count": 4,
   "id": "d5d7e256",
   "metadata": {},
   "outputs": [],
   "source": [
    "import pandas as pd\n",
    "import os\n",
    "import numpy as np\n",
    "from scipy import stats\n",
    "import math"
   ]
  },
  {
   "cell_type": "code",
   "execution_count": 5,
   "id": "c0c41635",
   "metadata": {},
   "outputs": [],
   "source": [
    "def load(file_path):\n",
    "    data = pd.read_csv(file_path, index_col=0)\n",
    "    return data"
   ]
  },
  {
   "cell_type": "markdown",
   "id": "5df144b4",
   "metadata": {},
   "source": [
    "### Olaparib (gdsc2)"
   ]
  },
  {
   "cell_type": "code",
   "execution_count": 6,
   "id": "c7f1a359",
   "metadata": {},
   "outputs": [],
   "source": [
    "#load Olaprapib sample sheet\n",
    "ola_IC50_df = load('OLAPARIB_IC50.csv')\n",
    "\n",
    "#compute z score\n",
    "ola_IC50_df['z_score'] = stats.zscore(ola_IC50_df['IC50'])\n",
    "\n",
    "#compute natural log (ln)\n",
    "ola_IC50_df['ln_values'] = ola_IC50_df['IC50'].apply(lambda x: math.log(x))\n",
    "\n",
    "# Calculate the index of the rows that represent the top 25% and bottom 25% of the DataFrame\n",
    "total_rows = len(ola_IC50_df)\n",
    "top_25_percent_index = int(total_rows * 0.33)\n",
    "bottom_25_percent_index = int(total_rows * 0.67)\n",
    "    \n",
    "# Create a new column 'resistance_label' and set all rows as 'intermediate' by default\n",
    "ola_IC50_df['resistance_label'] = 'intermediate'\n",
    "\n",
    "# Assign 'more resistant' to the top 25% rows\n",
    "ola_IC50_df.loc[ola_IC50_df.index[:top_25_percent_index], 'resistance_label'] = 'more resistant'\n",
    "\n",
    "# Assign 'less resistant' to the bottom 25% rows\n",
    "ola_IC50_df.loc[ola_IC50_df.index[bottom_25_percent_index:], 'resistance_label'] = 'less resistant'\n",
    "\n",
    "#formatting to align with other datasets\n",
    "ola_IC50_df.index = ola_IC50_df.index.str.replace(\"-\", \"\")\n",
    "ola_IC50_df.index = ola_IC50_df.index.str.replace(\"s\", \"S\")"
   ]
  },
  {
   "cell_type": "markdown",
   "id": "4ddcc528",
   "metadata": {},
   "source": [
    "### Talazoparib (gdsc2)"
   ]
  },
  {
   "cell_type": "code",
   "execution_count": 7,
   "id": "7e03515e",
   "metadata": {},
   "outputs": [],
   "source": [
    "#load data\n",
    "tala_IC50_df = load('TALAZOPARIB_IC50.csv')\n",
    "\n",
    "#compute z score\n",
    "tala_IC50_df['z_score'] = stats.zscore(tala_IC50_df['IC50'])\n",
    "\n",
    "#compute natural log (ln)\n",
    "tala_IC50_df['ln_values'] = tala_IC50_df['IC50'].apply(lambda x: math.log(x))\n",
    "\n",
    "# Calculate the index of the rows that represent the top 25% and bottom 25% of the DataFrame\n",
    "total_rows = len(tala_IC50_df)\n",
    "top_25_percent_index = int(total_rows * 0.33)\n",
    "bottom_25_percent_index = int(total_rows * 0.67)\n",
    "\n",
    "# Create a new column 'resistance_label' and set all rows as 'intermediate' by default\n",
    "tala_IC50_df['resistance_label'] = 'intermediate'\n",
    "\n",
    "# Assign 'more resistant' to the top 25% rows\n",
    "tala_IC50_df.loc[tala_IC50_df.index[:top_25_percent_index], 'resistance_label'] = 'more resistant'\n",
    "\n",
    "# Assign 'less resistant' to the bottom 25% rows\n",
    "tala_IC50_df.loc[tala_IC50_df.index[bottom_25_percent_index:], 'resistance_label'] = 'less resistant'\n",
    "\n",
    "#formatting\n",
    "tala_IC50_df.index = tala_IC50_df.index.str.replace(\"-\", \"\")\n",
    "tala_IC50_df.index = tala_IC50_df.index.str.replace(\"s\", \"S\")"
   ]
  },
  {
   "cell_type": "markdown",
   "id": "476b3238",
   "metadata": {},
   "source": [
    "#### Save IC50 dataframes"
   ]
  },
  {
   "cell_type": "code",
   "execution_count": 8,
   "id": "bec79f09",
   "metadata": {},
   "outputs": [],
   "source": [
    "outputfile_ola = \"OLA_TERTILE_LN.csv\"\n",
    "ola_IC50_df.to_csv(outputfile_ola, index=True)"
   ]
  },
  {
   "cell_type": "code",
   "execution_count": 9,
   "id": "a5abe6c1",
   "metadata": {},
   "outputs": [],
   "source": [
    "outputfile_tala = \"TALA_TERTILE_LN.csv\"\n",
    "tala_IC50_df.to_csv(outputfile_tala, index=True)"
   ]
  }
 ],
 "metadata": {
  "kernelspec": {
   "display_name": "Python 3 (ipykernel)",
   "language": "python",
   "name": "python3"
  },
  "language_info": {
   "codemirror_mode": {
    "name": "ipython",
    "version": 3
   },
   "file_extension": ".py",
   "mimetype": "text/x-python",
   "name": "python",
   "nbconvert_exporter": "python",
   "pygments_lexer": "ipython3",
   "version": "3.9.12"
  }
 },
 "nbformat": 4,
 "nbformat_minor": 5
}
